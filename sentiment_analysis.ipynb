{
 "cells": [
  {
   "cell_type": "code",
   "execution_count": null,
   "id": "5c9245fa-3ceb-437b-9ca5-a1fe1994c143",
   "metadata": {},
   "outputs": [],
   "source": [
    "from sklearn.model_selection import train_test_split\n",
    "from sklearn.feature_extraction.text import CountVectorizer\n",
    "from sklearn.naive_bayes import MultinomialNB\n",
    "from sklearn.pipeline import Pipeline\n",
    "from sklearn.metrics import accuracy_score\n",
    "\n",
    "# Sample dataset (can be replaced with larger dataset)\n",
    "reviews = [\n",
    "    \"I loved this movie, it was amazing!\",\n",
    "    \"What a terrible film. I hated it.\",\n",
    "    \"It was okay, not great but not bad.\",\n",
    "    \"Fantastic performance by the lead actor.\",\n",
    "    \"Awful plot. Couldn't even finish it.\",\n",
    "    \"Great direction and wonderful visuals.\",\n",
    "    \"Worst movie ever!\",\n",
    "    \"Such a heartwarming story. Loved it!\",\n",
    "    \"Not my type, very boring.\",\n",
    "    \"A masterpiece of modern cinema.\"\n",
    "]\n",
    "\n",
    "labels = [1, 0, 1, 1, 0, 1, 0, 1, 0, 1]  # 1 = Positive, 0 = Negative\n",
    "\n",
    "# Train/test split\n",
    "X_train, X_test, y_train, y_test = train_test_split(reviews, labels, test_size=0.3, random_state=42)\n",
    "\n",
    "# Create pipeline\n",
    "model = Pipeline([\n",
    "    ('vectorizer', CountVectorizer()),\n",
    "    ('classifier', MultinomialNB())\n",
    "])\n",
    "\n",
    "# Train\n",
    "model.fit(X_train, y_train)\n",
    "\n",
    "# Predict\n",
    "predictions = model.predict(X_test)\n",
    "\n",
    "# Evaluate\n",
    "print(\"Accuracy:\", accuracy_score(y_test, predictions))\n",
    "\n",
    "# Predict single review\n",
    "def predict_sentiment(review):\n",
    "    result = model.predict([review])[0]\n",
    "    return \"Positive\" if result == 1 else \"Negative\"\n",
    "\n",
    "# Example\n",
    "if __name__ == \"__main__\":\n",
    "    sample = \"The movie was truly inspiring and beautiful.\"\n",
    "    print(\"Review:\", sample)\n",
    "    print(\"Predicted Sentiment:\", predict_sentiment(sample))\n"
   ]
  }
 ],
 "metadata": {
  "kernelspec": {
   "display_name": "Python 3 (ipykernel)",
   "language": "python",
   "name": "python3"
  },
  "language_info": {
   "codemirror_mode": {
    "name": "ipython",
    "version": 3
   },
   "file_extension": ".py",
   "mimetype": "text/x-python",
   "name": "python",
   "nbconvert_exporter": "python",
   "pygments_lexer": "ipython3",
   "version": "3.12.4"
  }
 },
 "nbformat": 4,
 "nbformat_minor": 5
}
